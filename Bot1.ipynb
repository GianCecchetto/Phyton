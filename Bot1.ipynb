{
 "cells": [
  {
   "cell_type": "markdown",
   "id": "b8ff4ea5",
   "metadata": {},
   "source": [
    "Criação Bot"
   ]
  },
  {
   "cell_type": "code",
   "execution_count": 10,
   "id": "ea29cd05",
   "metadata": {},
   "outputs": [],
   "source": [
    "import pyautogui\n",
    "\n",
    "pyautogui.PAUSE = 2\n",
    "#Abrir ferramenta / o sistema/ o programa\n",
    "pyautogui.press(\"win\")\n",
    "pyautogui.write(\"login.xlsx\")\n",
    "pyautogui.press(\"backspace\")\n",
    "pyautogui.press(\"enter\")\n",
    "\n",
    "#preencher o login\n",
    "pyautogui.click(x=472, y=267)\n",
    "pyautogui.write(\"Enter name\")\n",
    "\n",
    "#preencher a senha\n",
    "pyautogui.click(x=460, y=323)\n",
    "pyautogui.write(\"Enter Password\")\n",
    "\n",
    "#clicar em fazer login\n",
    "pyautogui.click(x=645, y=425)"
   ]
  },
  {
   "cell_type": "code",
   "execution_count": 11,
   "id": "f9042d76",
   "metadata": {},
   "outputs": [
    {
     "data": {
      "text/plain": [
       "Point(x=1179, y=693)"
      ]
     },
     "execution_count": 11,
     "metadata": {},
     "output_type": "execute_result"
    }
   ],
   "source": [
    "import time\n",
    "\n",
    "time.sleep(3)\n",
    "pyautogui.position()"
   ]
  },
  {
   "cell_type": "markdown",
   "id": "8b4b7286",
   "metadata": {},
   "source": [
    "Bot na Internet - Selenium"
   ]
  },
  {
   "cell_type": "code",
   "execution_count": 24,
   "id": "35d7b2bf",
   "metadata": {},
   "outputs": [
    {
     "name": "stderr",
     "output_type": "stream",
     "text": [
      "C:\\Users\\Gustavo\\AppData\\Local\\Temp/ipykernel_8144/3834312741.py:8: DeprecationWarning: find_element_by_* commands are deprecated. Please use find_element() instead\n",
      "  navegador.find_element_by_xpath('//*[@id=\"i0116\"]').send_keys(\"xianluck_8@hotmail.com\")\n",
      "C:\\Users\\Gustavo\\AppData\\Local\\Temp/ipykernel_8144/3834312741.py:9: DeprecationWarning: find_element_by_* commands are deprecated. Please use find_element() instead\n",
      "  navegador.find_element_by_xpath('//*[@id=\"idSIButton9\"]').click()\n",
      "C:\\Users\\Gustavo\\AppData\\Local\\Temp/ipykernel_8144/3834312741.py:13: DeprecationWarning: find_element_by_* commands are deprecated. Please use find_element() instead\n",
      "  navegador.find_element_by_xpath('//*[@id=\"i0118\"]').send_keys(\"S1p2a3m4\")\n",
      "C:\\Users\\Gustavo\\AppData\\Local\\Temp/ipykernel_8144/3834312741.py:14: DeprecationWarning: find_element_by_* commands are deprecated. Please use find_element() instead\n",
      "  navegador.find_element_by_xpath('//*[@id=\"idSIButton9\"]').click()\n",
      "C:\\Users\\Gustavo\\AppData\\Local\\Temp/ipykernel_8144/3834312741.py:18: DeprecationWarning: find_element_by_* commands are deprecated. Please use find_element() instead\n",
      "  navegador.find_element_by_xpath('//*[@id=\"idSIButton9\"]').click()\n"
     ]
    }
   ],
   "source": [
    "# chrome ->chromedriver\n",
    "from selenium import webdriver\n",
    "import time\n",
    "\n",
    "navegador = webdriver.Chrome()\n",
    "navegador.get(\"https://login.live.com/\")\n",
    "time.sleep(1)\n",
    "navegador.find_element_by_xpath('//*[@id=\"i0116\"]').send_keys(\"Enter email\")\n",
    "navegador.find_element_by_xpath('//*[@id=\"idSIButton9\"]').click()\n",
    "\n",
    "time.sleep(2)\n",
    "\n",
    "navegador.find_element_by_xpath('//*[@id=\"i0118\"]').send_keys(\"Enter Password\")\n",
    "navegador.find_element_by_xpath('//*[@id=\"idSIButton9\"]').click()\n",
    "\n",
    "time.sleep(2)\n",
    "\n",
    "navegador.find_element_by_xpath('//*[@id=\"idSIButton9\"]').click()"
   ]
  },
  {
   "cell_type": "code",
   "execution_count": null,
   "id": "368f326e",
   "metadata": {},
   "outputs": [],
   "source": []
  }
 ],
 "metadata": {
  "kernelspec": {
   "display_name": "Python 3 (ipykernel)",
   "language": "python",
   "name": "python3"
  },
  "language_info": {
   "codemirror_mode": {
    "name": "ipython",
    "version": 3
   },
   "file_extension": ".py",
   "mimetype": "text/x-python",
   "name": "python",
   "nbconvert_exporter": "python",
   "pygments_lexer": "ipython3",
   "version": "3.9.7"
  }
 },
 "nbformat": 4,
 "nbformat_minor": 5
}
